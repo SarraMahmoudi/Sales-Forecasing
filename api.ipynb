{
 "cells": [
  {
   "cell_type": "code",
   "execution_count": 4,
   "id": "221c3899",
   "metadata": {},
   "outputs": [],
   "source": [
    "from fastapi import FastAPI, HTTPException\n",
    "from pydantic import BaseModel\n",
    "from typing import List\n",
    "import pandas as pd \n",
    "import joblib"
   ]
  },
  {
   "cell_type": "code",
   "execution_count": 5,
   "id": "ee0db2b6",
   "metadata": {},
   "outputs": [],
   "source": [
    "\n",
    "\n",
    "model = joblib.load(\"lightGBM_model.pkl\")\n",
    "features = joblib.load(\"features.pkl\")\n",
    "\n",
    "# Define FastAPI app\n",
    "app = FastAPI()\n",
    "\n",
    "\n",
    "# Define the expected input\n",
    "class InputData(BaseModel):\n",
    "    data: List[float]\n",
    "\n",
    "\n",
    "# Creating the prediction endpoint\n",
    "\n",
    "\n",
    "@app.post(\"/predict\")\n",
    "def predict(input_data: InputData):\n",
    "    if len(input_data) != len(features):\n",
    "        raise HTTPException(status_code=400, detail=\"Wrong number of inputs.\")\n",
    "    input_df = pd.DataFrame([input_data.data], columns=features)\n",
    "    prediction = model.predict(input_df)[0]\n",
    "    return {\"prediction\": prediction}"
   ]
  },
  {
   "cell_type": "code",
   "execution_count": null,
   "id": "e66faa14",
   "metadata": {},
   "outputs": [],
   "source": []
  }
 ],
 "metadata": {
  "kernelspec": {
   "display_name": "base",
   "language": "python",
   "name": "python3"
  },
  "language_info": {
   "codemirror_mode": {
    "name": "ipython",
    "version": 3
   },
   "file_extension": ".py",
   "mimetype": "text/x-python",
   "name": "python",
   "nbconvert_exporter": "python",
   "pygments_lexer": "ipython3",
   "version": "3.11.5"
  }
 },
 "nbformat": 4,
 "nbformat_minor": 5
}
